{
 "cells": [
  {
   "cell_type": "markdown",
   "id": "2f9ea7e7",
   "metadata": {},
   "source": [
    "# Numpy, Pandas, Data wrangling"
   ]
  },
  {
   "cell_type": "code",
   "execution_count": 6,
   "id": "668baaab",
   "metadata": {},
   "outputs": [],
   "source": [
    "import numpy as np"
   ]
  },
  {
   "cell_type": "code",
   "execution_count": 12,
   "id": "37da3b41",
   "metadata": {},
   "outputs": [
    {
     "name": "stdout",
     "output_type": "stream",
     "text": [
      "1.25\n"
     ]
    }
   ],
   "source": [
    "#clkaculating variance\n",
    "vac_nums = [0,0,0,0,0,1,1,1,1,1,1,1,1,2,2,2,2,3,3,3]\n",
    "a = np.array([0,0,0,0,0,1,1,1,1,1,1,1,1,2,2,2,2,3,3,3])\n",
    "mean = np.sum(a)/a.size\n",
    "print(mean)"
   ]
  },
  {
   "cell_type": "code",
   "execution_count": 14,
   "id": "37f891f0",
   "metadata": {},
   "outputs": [
    {
     "name": "stdout",
     "output_type": "stream",
     "text": [
      "0.9875\n"
     ]
    }
   ],
   "source": [
    "variance = np.sum((a - mean)**2)/a.size\n",
    "print(variance)"
   ]
  },
  {
   "cell_type": "code",
   "execution_count": 15,
   "id": "e4bd16fe",
   "metadata": {},
   "outputs": [
    {
     "name": "stdout",
     "output_type": "stream",
     "text": [
      "1\n"
     ]
    }
   ],
   "source": [
    "x = np.array([1, 2, 3, 4])\n",
    "print(x[0]) "
   ]
  },
  {
   "cell_type": "code",
   "execution_count": 18,
   "id": "2664902b",
   "metadata": {},
   "outputs": [
    {
     "name": "stdout",
     "output_type": "stream",
     "text": [
      "2\n",
      "9\n",
      "(3, 3)\n"
     ]
    }
   ],
   "source": [
    "x = np.array([[1, 2, 3], [4, 5, 6], [7, 8, 9]]) \n",
    "print(x.ndim)\n",
    "print(x.size)\n",
    "print(x.shape) "
   ]
  },
  {
   "cell_type": "code",
   "execution_count": 19,
   "id": "1aa2e280",
   "metadata": {},
   "outputs": [
    {
     "name": "stdout",
     "output_type": "stream",
     "text": [
      "[1 3 4]\n"
     ]
    }
   ],
   "source": [
    "x = np.array([2, 1, 3])\n",
    "\n",
    "x = np.append(x, 4)\n",
    "x = np.delete(x, 0)\n",
    "x = np.sort(x)\n",
    "\n",
    "print(x)"
   ]
  },
  {
   "cell_type": "code",
   "execution_count": 20,
   "id": "0fcc5998",
   "metadata": {},
   "outputs": [
    {
     "name": "stdout",
     "output_type": "stream",
     "text": [
      "[1 2 3 4]\n"
     ]
    }
   ],
   "source": [
    "x = np.array([2, 1, 3])\n",
    "\n",
    "x = np.append(x, 4)\n",
    "x = np.sort(x)\n",
    "\n",
    "print(x)"
   ]
  },
  {
   "cell_type": "code",
   "execution_count": 21,
   "id": "9f6aa818",
   "metadata": {},
   "outputs": [
    {
     "name": "stdout",
     "output_type": "stream",
     "text": [
      "[1 2 4]\n"
     ]
    }
   ],
   "source": [
    "x = np.array([2, 1, 3])\n",
    "\n",
    "x = np.append(x, 4)\n",
    "x = np.delete(x, 2)\n",
    "x = np.sort(x)\n",
    "\n",
    "print(x)"
   ]
  },
  {
   "cell_type": "code",
   "execution_count": 22,
   "id": "5accaa15",
   "metadata": {},
   "outputs": [
    {
     "name": "stdout",
     "output_type": "stream",
     "text": [
      "1200\n",
      "[ 900 1000 1200 1400 1800 1900 2200 2500 3500 4200]\n"
     ]
    }
   ],
   "source": [
    "data = np.array([1000, 2500, 1400, 1800, 900, 4200, 2200, 1900, 3500])\n",
    "new_house = int(input())\n",
    "data = np.append(data, new_house)\n",
    "data = np.sort(data)\n",
    "print(data)"
   ]
  },
  {
   "cell_type": "code",
   "execution_count": 24,
   "id": "33809f6d",
   "metadata": {},
   "outputs": [
    {
     "name": "stdout",
     "output_type": "stream",
     "text": [
      "3\n"
     ]
    }
   ],
   "source": [
    "x = np.arange(2, 8, 2)\n",
    "x = np.append(x, x.size)\n",
    "x = np.sort(x)\n",
    "print(x[1])"
   ]
  },
  {
   "cell_type": "code",
   "execution_count": 25,
   "id": "5ac585b1",
   "metadata": {},
   "outputs": [
    {
     "name": "stdout",
     "output_type": "stream",
     "text": [
      "My 1D array:\n",
      " [10 20 30]\n",
      "Type: <class 'numpy.ndarray'>\n"
     ]
    }
   ],
   "source": [
    "# Creation of 1D array\n",
    "arr1=np.array([10,20,30])\n",
    "print(\"My 1D array:\\n\",arr1)\n",
    "\n",
    "# My 1D array: \n",
    "# [10 20 30 40]\n",
    "\n",
    "print(\"Type:\", type(arr1))"
   ]
  },
  {
   "cell_type": "code",
   "execution_count": 26,
   "id": "d0981fa4",
   "metadata": {},
   "outputs": [
    {
     "name": "stdout",
     "output_type": "stream",
     "text": [
      "A sequential array with steps of 3:\n",
      " [ 0  3  6  9 12 15 18]\n"
     ]
    }
   ],
   "source": [
    "# Create a sequence of integers from 0 to 20 with step of 3\n",
    "arr= np.arange(0, 20, 3)\n",
    "print (\"A sequential array with steps of 3:\\n\", arr)"
   ]
  },
  {
   "cell_type": "code",
   "execution_count": 32,
   "id": "a29e6966",
   "metadata": {},
   "outputs": [
    {
     "name": "stdout",
     "output_type": "stream",
     "text": [
      "Type: <class 'numpy.ndarray'>\n"
     ]
    }
   ],
   "source": [
    "z= np.array([[1,2], [3,4], [5,6]])\n",
    "z = x.reshape(4)\n",
    "print(\"Type:\", type(z))"
   ]
  },
  {
   "cell_type": "code",
   "execution_count": 33,
   "id": "d94e09f5",
   "metadata": {},
   "outputs": [
    {
     "name": "stdout",
     "output_type": "stream",
     "text": [
      "4\n"
     ]
    }
   ],
   "source": [
    "x = np.arange(1, 8, 3)\n",
    "z = x.reshape(3, 1)\n",
    "print(z[1][0])"
   ]
  },
  {
   "cell_type": "code",
   "execution_count": 34,
   "id": "547e68be",
   "metadata": {},
   "outputs": [
    {
     "name": "stdout",
     "output_type": "stream",
     "text": [
      "2\n"
     ]
    }
   ],
   "source": [
    "x = np.array([11, 42, 8, 5, 18])\n",
    "z = x[x>15]\n",
    "print(z.size)"
   ]
  },
  {
   "cell_type": "code",
   "execution_count": 36,
   "id": "3f3aa33c",
   "metadata": {},
   "outputs": [
    {
     "name": "stdout",
     "output_type": "stream",
     "text": [
      "7\n"
     ]
    }
   ],
   "source": [
    "x = np.arange(3, 9)\n",
    "z = x.reshape(2, 3)\n",
    "print(z[1][1])"
   ]
  },
  {
   "cell_type": "code",
   "execution_count": 37,
   "id": "9248fa0c",
   "metadata": {},
   "outputs": [
    {
     "name": "stdout",
     "output_type": "stream",
     "text": [
      "12\n"
     ]
    }
   ],
   "source": [
    "x = np.arange(1, 5)\n",
    "x = x*2\n",
    "print(x[:3].sum())"
   ]
  },
  {
   "cell_type": "code",
   "execution_count": null,
   "id": "0a333b26",
   "metadata": {},
   "outputs": [],
   "source": []
  }
 ],
 "metadata": {
  "kernelspec": {
   "display_name": "Python 3 (ipykernel)",
   "language": "python",
   "name": "python3"
  },
  "language_info": {
   "codemirror_mode": {
    "name": "ipython",
    "version": 3
   },
   "file_extension": ".py",
   "mimetype": "text/x-python",
   "name": "python",
   "nbconvert_exporter": "python",
   "pygments_lexer": "ipython3",
   "version": "3.9.13"
  }
 },
 "nbformat": 4,
 "nbformat_minor": 5
}
